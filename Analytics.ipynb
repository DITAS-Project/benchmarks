{
 "cells": [
  {
   "cell_type": "code",
   "execution_count": 1,
   "metadata": {},
   "outputs": [],
   "source": [
    "%matplotlib inline\n",
    "#some basic imports\n",
    "import numpy as np\n",
    "import matplotlib.pyplot as plt\n",
    "import pandas as pd\n",
    "from datetime import datetime\n",
    "\n",
    "#TODO: add your imports here\n",
    "from elasticsearch import Elasticsearch\n",
    "\n",
    "#seting up some styles\n",
    "import seaborn as sns\n",
    "sns.set_context(\"paper\")\n",
    "sns.set_style(\"whitegrid\")\n",
    "\n",
    "#avoid Font-problem in plots for ACM/IEEE papers\n",
    "plt.rcParams['pdf.fonttype'] = 42\n",
    "plt.rcParams['ps.fonttype'] = 42\n",
    "\n",
    "experiment_name = \"DITAS-Performance-Benchmark\"\n",
    "\n",
    "es = Elasticsearch(host=\"153.92.30.56\",\n",
    "                   http_auth=('admin', 'ditasmetrics'),\n",
    "                   scheme=\"http\",\n",
    "                   port=50035)"
   ]
  },
  {
   "cell_type": "code",
   "execution_count": 10,
   "metadata": {},
   "outputs": [],
   "source": [
    "#getting data\n",
    "from load import load,load_monitoring\n",
    "use_cache=False\n",
    "\n",
    "data_cache_file=\"{}_{}.data.csv\".format(experiment_name,datetime.now().strftime(\"%d-%m-%Y\"))\n",
    "data = load(load_from_cache=use_cache,store_cache_file=True,data_cache_file=data_cache_file)"
   ]
  },
  {
   "cell_type": "code",
   "execution_count": 11,
   "metadata": {},
   "outputs": [],
   "source": [
    "experiment_dates =list(map(lambda x:pd.Timestamp(x),data['runDate'].unique()))\n",
    "\n",
    "mon__cache_file=\"{}_{}.mon.csv\".format(experiment_name,datetime.now().strftime(\"%d-%m-%Y\"))\n",
    "monData = load_monitoring(load_from_cache=use_cache,store_cache_file=True,monitoring_cache_file=mon__cache_file,es=es,experiment_dates=experiment_dates)"
   ]
  },
  {
   "cell_type": "code",
   "execution_count": 17,
   "metadata": {},
   "outputs": [
    {
     "data": {
      "text/plain": [
       "experiment  method                 \n",
       "B0          GetSimplifiedDiagnostic    18.674000\n",
       "            GetStreamingData           30.000462\n",
       "B1          GetStreamingData           30.000866\n",
       "B4A         GetStreamingData           30.000427\n",
       "B4B         GetStreamingData           30.000426\n",
       "B9          GetStreamingData           30.000307\n",
       "Name: response-time, dtype: float64"
      ]
     },
     "execution_count": 17,
     "metadata": {},
     "output_type": "execute_result"
    }
   ],
   "source": [
    "data.groupby([\"experiment\",\"method\"])[\"response-time\"].mean()"
   ]
  },
  {
   "cell_type": "markdown",
   "metadata": {},
   "source": [
    "## your experiment"
   ]
  },
  {
   "cell_type": "code",
   "execution_count": null,
   "metadata": {},
   "outputs": [],
   "source": [
    "#usefull commands\n",
    "data[data['startTime'] > pd.Timestamp(2019,12,4,13)]\n",
    "#save a table\n",
    "with open('images/{tabel}.tex', 'w') as tf:\n",
    "     tf.write(data.to_latex(escape=False))\n",
    "\n",
    "#save a plot\n",
    "plt.savefig(\"images/{filename}.pdf\", bbox_inches=\"tight\")"
   ]
  }
 ],
 "metadata": {
  "kernelspec": {
   "display_name": "Python 3",
   "language": "python",
   "name": "python3"
  },
  "language_info": {
   "codemirror_mode": {
    "name": "ipython",
    "version": 3
   },
   "file_extension": ".py",
   "mimetype": "text/x-python",
   "name": "python",
   "nbconvert_exporter": "python",
   "pygments_lexer": "ipython3",
   "version": "3.7.4"
  }
 },
 "nbformat": 4,
 "nbformat_minor": 4
}
