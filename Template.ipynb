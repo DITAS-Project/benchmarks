{
 "cells": [
  {
   "cell_type": "code",
   "execution_count": 1,
   "metadata": {},
   "outputs": [],
   "source": [
    "%matplotlib inline\n",
    "#some basic imports\n",
    "import numpy as np\n",
    "import matplotlib.pyplot as plt\n",
    "import pandas as pd\n",
    "from datetime import datetime\n",
    "\n",
    "#TODO: add your imports here\n",
    "from elasticsearch import Elasticsearch\n",
    "\n",
    "#seting up some styles\n",
    "import seaborn as sns\n",
    "sns.set_context(\"paper\")\n",
    "sns.set_style(\"whitegrid\")\n",
    "\n",
    "#avoid Font-problem in plots for ACM/IEEE papers\n",
    "plt.rcParams['pdf.fonttype'] = 42\n",
    "plt.rcParams['ps.fonttype'] = 42\n",
    "\n",
    "experiment_name = \"DITAS-Performance-Benchmark\"\n",
    "\n",
    "es = Elasticsearch(host=\"153.92.30.56\",\n",
    "                   http_auth=('admin', 'ditasmetrics'),\n",
    "                   scheme=\"http\",\n",
    "                   port=50035)"
   ]
  },
  {
   "cell_type": "code",
   "execution_count": 3,
   "metadata": {},
   "outputs": [],
   "source": [
    "#getting data\n",
    "from load import load\n",
    "use_cache=False\n",
    "data_cache_file=\"{}_{}.data.csv\".format(experiment_name,datetime.now().strftime(\"%d-%m-%Y\"))\n",
    "mon__cache_file=\"{}_{}.mon.csv\".format(experiment_name,datetime.now().strftime(\"%d-%m-%Y\"))\n",
    "data,monData = load(load_from_cache=False,store_cache_file=True,data_cache_file=data_cache_file,monitoring_cache_file=mon__cache_file,es=es)"
   ]
  },
  {
   "cell_type": "markdown",
   "metadata": {},
   "source": [
    "## your experiment"
   ]
  },
  {
   "cell_type": "code",
   "execution_count": null,
   "metadata": {},
   "outputs": [],
   "source": [
    "#usefull commands\n",
    "data[data['startTime'] > pd.Timestamp(2019,12,4,13)]\n",
    "#save a table\n",
    "with open('images/{tabel}.tex', 'w') as tf:\n",
    "     tf.write(data.to_latex(escape=False))\n",
    "\n",
    "#save a plot\n",
    "plt.savefig(\"images/{filename}.pdf\", bbox_inches=\"tight\")"
   ]
  }
 ],
 "metadata": {
  "kernelspec": {
   "display_name": "Python 3",
   "language": "python",
   "name": "python3"
  },
  "language_info": {
   "codemirror_mode": {
    "name": "ipython",
    "version": 3
   },
   "file_extension": ".py",
   "mimetype": "text/x-python",
   "name": "python",
   "nbconvert_exporter": "python",
   "pygments_lexer": "ipython3",
   "version": "3.7.4"
  }
 },
 "nbformat": 4,
 "nbformat_minor": 4
}
